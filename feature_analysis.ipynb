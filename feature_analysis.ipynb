{
 "cells": [
  {
   "cell_type": "code",
   "execution_count": 1,
   "metadata": {},
   "outputs": [],
   "source": [
    "import networkx as nx\n",
    "from utility_funcs import readcirclefile, read_nodeadjlist, readfeaturelist, readfeatures, convert_profile_dict_to_vector, match_vector, generate_feature_matrix, generate_class_matrix\n",
    "import os\n",
    "import pandas as pd\n",
    "from pathlib import Path\n",
    "import matplotlib.pyplot as plt\n",
    "from sklearn.ensemble import RandomForestClassifier\n",
    "import numpy as np\n",
    "\n",
    "root_dir = Path.cwd().resolve()\n",
    "data_dir = root_dir / 'data'"
   ]
  },
  {
   "cell_type": "code",
   "execution_count": 2,
   "metadata": {},
   "outputs": [
    {
     "name": "stdout",
     "output_type": "stream",
     "text": [
      "['birthday', 'education;classes;description', 'education;classes;from;id', 'education;classes;from;name', 'education;classes;id', 'education;classes;name', 'education;classes;with;id', 'education;classes;with;name', 'education;concentration;id', 'education;concentration;name', 'education;degree;id', 'education;degree;name', 'education;school;id', 'education;school;name', 'education;type', 'education;with;id', 'education;with;name', 'education;year;id', 'education;year;name', 'first_name', 'gender', 'hometown;id', 'hometown;name', 'id', 'languages;id', 'languages;name', 'last_name', 'locale', 'location', 'location;id', 'location;name', 'middle_name', 'name', 'political', 'religion', 'work;description', 'work;employer;id', 'work;employer;name', 'work;end_date', 'work;from;id', 'work;from;name', 'work;location;id', 'work;location;name', 'work;position;id', 'work;position;name', 'work;projects;description', 'work;projects;end_date', 'work;projects;from;id', 'work;projects;from;name', 'work;projects;id', 'work;projects;name', 'work;projects;start_date', 'work;projects;with;id', 'work;projects;with;name', 'work;start_date', 'work;with;id', 'work;with;name']\n",
      "57\n"
     ]
    }
   ],
   "source": [
    "features = readfeaturelist(data_dir / 'featureList.txt')\n",
    "print( features)\n",
    "print(len(features))"
   ]
  },
  {
   "cell_type": "code",
   "execution_count": null,
   "metadata": {},
   "outputs": [],
   "source": [
    "profiles_dict = readfeatures(data_dir / 'features.txt')\n",
    "profile_matrix = [convert_profile_dict_to_vector(profile,features) for profile in profiles_dict]"
   ]
  },
  {
   "cell_type": "code",
   "execution_count": null,
   "metadata": {},
   "outputs": [],
   "source": [
    "ego = 345\n",
    "true_circles = readcirclefile(data_dir / 'Training'/ f\"{str(ego)}.circles\")\n",
    "G = read_nodeadjlist(data_dir / 'egonets' / f\"{str(ego)}.egonet\")\n",
    "print('Total friends:', len(G.nodes()))\n",
    "class_matrix = generate_class_matrix(G,true_circles)\n",
    "feature_matrix = generate_feature_matrix(profile_matrix,ego,G)\n",
    "\n",
    "for label,circle in class_matrix.items():\n",
    "    print('Training Ego:', ego,'Circle:',label,'...')\n",
    "    forest = RandomForestClassifier(n_estimators=100)\n",
    "    forest = forest.fit( feature_matrix, circle )\n",
    "    important_features = sorted(zip(features,forest.feature_importances_), key=lambda x: x[1], reverse=True)\n",
    "    importance_scores = [val for key,val in important_features]\n",
    "    importance_labels = [key for key,val in important_features]\n",
    "    ind = range(len(importance_scores))\n",
    "    plt.bar(ind, forest.feature_importances_)\n",
    "    plt.title(\"Feature Importance in Social Circle Prediction\", fontsize=14)\n",
    "    plt.xlabel(\"Feature Names\", fontsize=12)\n",
    "    plt.ylabel(\"Importance Score\", fontsize=12)\n",
    "    plt.axis([min(ind), max(ind), 0, 0.7])\n",
    "    plt.show()"
   ]
  },
  {
   "cell_type": "code",
   "execution_count": null,
   "metadata": {},
   "outputs": [],
   "source": [
    "print(\"Total number of nodes in Graph 1:\", len(G.nodes()))\n",
    "print(\"Total number of edges in Graph 1:\", len(G.edges()))"
   ]
  },
  {
   "cell_type": "code",
   "execution_count": null,
   "metadata": {},
   "outputs": [],
   "source": [
    "ego = 345\n",
    "true_circles = readcirclefile(data_dir / 'Training'/ f\"{str(ego)}.circles\")\n",
    "G = read_nodeadjlist(data_dir / 'egonets' / f\"{str(ego)}.egonet\")\n",
    "print('Total friends:', len(G.nodes()))\n",
    "\n",
    "class_matrix = generate_class_matrix(G, true_circles)\n",
    "feature_matrix = generate_feature_matrix(profile_matrix, ego, G)\n",
    "\n",
    "for label, circle in class_matrix.items():\n",
    "    print('Training Ego:', ego, 'Circle:', label, '...')\n",
    "    \n",
    "    # Train the Random Forest Classifier\n",
    "    forest = RandomForestClassifier(n_estimators=100)\n",
    "    forest = forest.fit(feature_matrix, circle)\n",
    "\n",
    "    # Sort features by importance\n",
    "    important_features = sorted(zip(features, forest.feature_importances_), key=lambda x: x[1], reverse=True)\n",
    "    importance_scores = [val for key, val in important_features]\n",
    "    importance_labels = [key for key, val in important_features]  \n",
    "\n",
    "    ind = range(len(importance_scores))\n",
    "\n",
    "    plt.figure(figsize=(15,5))  \n",
    "    plt.bar(ind, importance_scores, color=\"skyblue\")  \n",
    "    \n",
    "    plt.title(\"Feature Importance in Social Circle Prediction\", fontsize=14)\n",
    "    plt.xlabel(\"Feature Names\", fontsize=12)\n",
    "    plt.ylabel(\"Importance Score\", fontsize=12)\n",
    "\n",
    "    plt.xticks(ind, importance_labels, rotation=45, ha=\"right\", fontsize=10)\n",
    "\n",
    "    plt.ylim(0, 0.7)  \n",
    "    plt.show()"
   ]
  },
  {
   "cell_type": "code",
   "execution_count": null,
   "metadata": {},
   "outputs": [],
   "source": [
    "ego = 345  # Choose ego user\n",
    "\n",
    "true_circles = readcirclefile(data_dir / 'Training'/ f\"{str(ego)}.circles\")\n",
    "G = read_nodeadjlist(data_dir / 'egonets' / f\"{str(ego)}.egonet\")\n",
    "\n",
    "class_matrix = generate_class_matrix(G, true_circles)\n",
    "feature_matrix = generate_feature_matrix(profile_matrix, ego, G)\n",
    "\n",
    "feature_matrix = np.array(feature_matrix)  # Ensure it's a structured 2D array\n",
    "\n",
    "num_features = feature_matrix.shape[1]  # Now feature_matrix is an array, so .shape[1] works\n",
    "feature_importances = np.zeros(num_features)\n",
    "\n",
    "for label, circle in class_matrix.items():\n",
    "    circle = np.array(circle)  # Ensure labels are also in NumPy format\n",
    "    forest = RandomForestClassifier(n_estimators=100)\n",
    "    forest.fit(feature_matrix, circle)\n",
    "    feature_importances += forest.feature_importances_  # Add feature importance values\n",
    "\n",
    "feature_importances /= len(class_matrix)\n",
    "\n",
    "sorted_indices = np.argsort(feature_importances)[::-1]  # Sort in descending order\n",
    "sorted_importances = feature_importances[sorted_indices]\n",
    "sorted_labels = np.array(features)[sorted_indices]  # Sort feature names accordingly\n",
    "\n",
    "plt.figure(figsize=(20, 6))  \n",
    "plt.bar(sorted_labels, sorted_importances, color=\"skyblue\")\n",
    "\n",
    "plt.title(\"Overall Feature Importance Across All Social Circles\", fontsize=14)\n",
    "plt.xlabel(\"Feature Names\", fontsize=12)\n",
    "plt.ylabel(\"Importance Score\", fontsize=12)\n",
    "\n",
    "plt.xticks(rotation=45, ha=\"right\", fontsize=10)  # Rotate labels for readability\n",
    "plt.ylim(0, max(sorted_importances) * 1.1)  # Adjust y-axis for visibility\n",
    "\n",
    "plt.show()"
   ]
  },
  {
   "cell_type": "code",
   "execution_count": null,
   "metadata": {},
   "outputs": [],
   "source": [
    "print(\"Available Circles for Ego:\", list(class_matrix.keys()))"
   ]
  },
  {
   "cell_type": "code",
   "execution_count": null,
   "metadata": {},
   "outputs": [],
   "source": [
    "# Assuming 'forest.feature_importances_' contains feature importance scores\n",
    "ind = np.arange(len(forest.feature_importances_))  # Indices for bars\n",
    "\n",
    "plt.figure(figsize=(30,5))  # Set figure size\n",
    "\n",
    "plt.bar(ind, forest.feature_importances_, color='skyblue')  # Improved color\n",
    "plt.xticks(ind, features, rotation=45, ha=\"right\", fontsize=10)  \n",
    "\n",
    "plt.title(\"Feature Importance in Social Circle Prediction\", fontsize=14)\n",
    "plt.xlabel(\"Feature Names\", fontsize=12)\n",
    "plt.ylabel(\"Importance Score\", fontsize=12)\n",
    "\n",
    "plt.ylim(0, 0.7)  # Keep the original axis range\n",
    "\n",
    "plt.show()"
   ]
  },
  {
   "cell_type": "code",
   "execution_count": null,
   "metadata": {},
   "outputs": [],
   "source": [
    "dict(zip(true_circles.keys(),[[int(g in circle) for g in G.nodes()] for circle in true_circles.values()]))\n"
   ]
  },
  {
   "cell_type": "code",
   "execution_count": null,
   "metadata": {},
   "outputs": [],
   "source": [
    "true_circles = readcirclefile(data_dir / 'Training'/ f\"{str(ego)}.circles\")\n",
    "G = read_nodeadjlist(data_dir / 'egonets' / f\"{str(ego)}.egonet\")\n",
    "print('Total friends:', len(G.nodes()))\n",
    "class_matrix = generate_class_matrix(G,true_circles)\n",
    "feature_matrix = generate_feature_matrix(profile_matrix,ego,G)\n",
    "\n",
    "for label,circle in class_matrix.items():\n",
    "    print('Training Ego:', ego,'Circle:',label,'...')\n",
    "    forest = RandomForestClassifier(n_estimators=100)\n",
    "    forest = forest.fit( feature_matrix, circle )\n",
    "    important_features = sorted(zip(features,forest.feature_importances_), key=lambda x: x[1], reverse=True)\n",
    "    importance_scores = [val for key,val in important_features]\n",
    "    importance_labels = [key for key,val in important_features]\n",
    "    ind = range(len(importance_scores))\n",
    "    plt.bar(ind, forest.feature_importances_)\n",
    "    plt.axis([min(ind), max(ind), 0, 0.7])\n",
    "    plt.show()"
   ]
  },
  {
   "cell_type": "code",
   "execution_count": null,
   "metadata": {},
   "outputs": [],
   "source": [
    "ego = 345\n",
    "\n",
    "G = read_nodeadjlist(data_dir / 'egonets' / f\"{str(ego)}.egonet\")\n",
    "\n",
    "G.add_node(ego)  # Ensure Ego node exists\n",
    "for friend in G.nodes():\n",
    "    G.add_edge(ego, friend)  # Connect ego to all its friends\n",
    "\n",
    "ego_subgraph = G.subgraph([ego] + list(G.neighbors(ego)))\n",
    "\n",
    "pos = nx.spring_layout(ego_subgraph, k=0.8)  # k=0.8 spreads out nodes\n",
    "\n",
    "#plt.figure(figsize=(8, 6))\n",
    "nx.draw(\n",
    "    ego_subgraph,\n",
    "    pos,\n",
    "    node_size=300,  # Adjusted for visibility\n",
    "    node_color=\"skyblue\",  # Friend nodes in blue\n",
    "    edge_color=\"gray\",\n",
    "    alpha=0.7,  # Light transparency to reduce clutter\n",
    "    with_labels=True,\n",
    "    font_size=9\n",
    ")\n",
    "\n",
    "nx.draw_networkx_nodes(ego_subgraph, pos, nodelist=[ego], node_size=500, node_color=\"red\")\n",
    "\n",
    "plt.title(\"Ego 345’s Social Circle\", fontsize=14)\n",
    "plt.show()"
   ]
  },
  {
   "cell_type": "code",
   "execution_count": null,
   "metadata": {},
   "outputs": [],
   "source": [
    "friends = list(G.neighbors(ego))[:10]  # Print only the first 10 friends\n",
    "print(\"First 10 friends of Ego 345:\", friends)"
   ]
  },
  {
   "cell_type": "code",
   "execution_count": null,
   "metadata": {},
   "outputs": [],
   "source": [
    "ego = 345  # Define the Ego User\n",
    "\n",
    "G = read_nodeadjlist(data_dir / 'egonets' / f\"{str(ego)}.egonet\")\n",
    "\n",
    "G.add_node(ego)  # Add ego node if missing\n",
    "for friend in G.nodes():\n",
    "    G.add_edge(ego, friend)  # Connect ego to friends\n",
    "\n",
    "# ONLY 10 direct friends for clarity\n",
    "selected_friends = list(G.neighbors(ego))[:10]  # First 10 friends\n",
    "ego_subgraph = G.subgraph([ego] + selected_friends)\n",
    "\n",
    "pos = nx.spring_layout(ego_subgraph, k=1.2)  # Increase spacing\n",
    "\n",
    "#plt.figure(figsize=(8, 6))\n",
    "\n",
    "nx.draw(\n",
    "    ego_subgraph, \n",
    "    pos, \n",
    "    node_size=300,  # Medium-sized nodes\n",
    "    node_color=\"skyblue\",  # Friends in blue\n",
    "    edge_color=\"gray\",\n",
    "    alpha=0.7,  \n",
    "    with_labels=True,  \n",
    "    font_size=10\n",
    ")\n",
    "\n",
    "nx.draw_networkx_nodes(ego_subgraph, pos, nodelist=[ego], node_size=500, node_color=\"red\")\n",
    "\n",
    "plt.title(\"Ego 345’s Social Circle (First 10 Direct Friends)\", fontsize=14)\n",
    "plt.show()"
   ]
  },
  {
   "cell_type": "code",
   "execution_count": null,
   "metadata": {},
   "outputs": [],
   "source": [
    "trainingfiles = os.listdir(data_dir / 'Training')\n",
    "\n",
    "df_labels = ['Ego','Circle']+features\n",
    "characteristic_profiles = []\n",
    "\n",
    "for item in trainingfiles:\n",
    "    ego = int((item.split('.')[0]))\n",
    "    true_circles = readcirclefile(data_dir / 'Training' / item)\n",
    "    G = read_nodeadjlist(data_dir / 'egonets' / f\"{str(ego)}.egonet\")\n",
    "    class_matrix = generate_class_matrix(G,true_circles)\n",
    "    feature_matrix = generate_feature_matrix(profile_matrix,ego,G)\n",
    "    \n",
    "    for label,circle in class_matrix.items():\n",
    "        print('Training Ego:', ego,'Circle:',label,'...')\n",
    "        forest = RandomForestClassifier(n_estimators=100)\n",
    "        forest = forest.fit( feature_matrix, circle )\n",
    "        characteristic_profiles.append([ego]+[label]+list(forest.feature_importances_))\n",
    "\n",
    "df = pd.DataFrame(data=characteristic_profiles,columns=df_labels)"
   ]
  },
  {
   "cell_type": "code",
   "execution_count": null,
   "metadata": {},
   "outputs": [],
   "source": [
    "df"
   ]
  },
  {
   "cell_type": "code",
   "execution_count": null,
   "metadata": {},
   "outputs": [],
   "source": [
    "df.mean().sort_values(ascending=False)"
   ]
  },
  {
   "cell_type": "code",
   "execution_count": null,
   "metadata": {},
   "outputs": [],
   "source": [
    "df.to_csv('characterist_profiles.csv')"
   ]
  },
  {
   "cell_type": "code",
   "execution_count": null,
   "metadata": {},
   "outputs": [],
   "source": [
    "df_pos = df[df.min(axis=1)>=0]\n",
    "df_neg = df[df.min(axis=1)<0]\n",
    "df_pos_mean = df_pos.mean()\n",
    "df_pos_mean.sort_values(ascending=False)\n",
    "rand_chance = (len(df_pos_mean)-2)\n",
    "df_pos_mean[df_pos_mean.gt(1./(rand_chance))]*rand_chance\n",
    "df_pos_mean*rand_chance\n",
    "print(\"Most important features sorted:\")\n",
    "df_pos.mean()[2:].sort_values(ascending=False)"
   ]
  }
 ],
 "metadata": {
  "kernelspec": {
   "display_name": ".venv",
   "language": "python",
   "name": "python3"
  },
  "language_info": {
   "codemirror_mode": {
    "name": "ipython",
    "version": 3
   },
   "file_extension": ".py",
   "mimetype": "text/x-python",
   "name": "python",
   "nbconvert_exporter": "python",
   "pygments_lexer": "ipython3",
   "version": "3.10.11"
  }
 },
 "nbformat": 4,
 "nbformat_minor": 2
}
